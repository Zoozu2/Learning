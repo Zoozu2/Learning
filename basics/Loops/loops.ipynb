{
 "cells": [
  {
   "cell_type": "code",
   "execution_count": 1,
   "metadata": {},
   "outputs": [],
   "source": [
    "bros = [\"shreyas\", \"tejas\", \"preshit\",'anish','siddhesh','sahil']"
   ]
  },
  {
   "cell_type": "code",
   "execution_count": 2,
   "metadata": {},
   "outputs": [
    {
     "name": "stdout",
     "output_type": "stream",
     "text": [
      "shreyas\n",
      "tejas\n",
      "preshit\n",
      "anish\n",
      "siddhesh\n",
      "sahil\n"
     ]
    }
   ],
   "source": [
    "for bro in bros:\n",
    "    print(bro)"
   ]
  },
  {
   "cell_type": "code",
   "execution_count": 4,
   "metadata": {},
   "outputs": [
    {
     "name": "stdout",
     "output_type": "stream",
     "text": [
      "shreyas\n",
      "tejas\n"
     ]
    }
   ],
   "source": [
    "for bro in bros[0:2]:\n",
    "    print(bro)"
   ]
  },
  {
   "cell_type": "code",
   "execution_count": 3,
   "metadata": {},
   "outputs": [
    {
     "name": "stdout",
     "output_type": "stream",
     "text": [
      "shreyas\n",
      "tejas\n",
      "preshit\n",
      "anish - is my best friend\n"
     ]
    }
   ],
   "source": [
    "# Assigning and check if a particular variable is in the code\n",
    "bros = [\"shreyas\", \"tejas\", \"preshit\",'anish','siddhesh','sahil']\n",
    "\n",
    "for bro in bros:\n",
    "    if bro == \"anish\":\n",
    "        print(f'{bro} - is my best friend')\n",
    "        break\n",
    "    else:\n",
    "        print(bro)\n"
   ]
  }
 ],
 "metadata": {
  "kernelspec": {
   "display_name": "Python 3",
   "language": "python",
   "name": "python3"
  },
  "language_info": {
   "codemirror_mode": {
    "name": "ipython",
    "version": 3
   },
   "file_extension": ".py",
   "mimetype": "text/x-python",
   "name": "python",
   "nbconvert_exporter": "python",
   "pygments_lexer": "ipython3",
   "version": "3.10.4"
  }
 },
 "nbformat": 4,
 "nbformat_minor": 2
}
